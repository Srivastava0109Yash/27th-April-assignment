{
 "cells": [
  {
   "cell_type": "code",
   "execution_count": 2,
   "id": "01c76a33",
   "metadata": {},
   "outputs": [],
   "source": [
    "# import necessary libararies:\n",
    "import numpy as np\n",
    "import seaborn as sns\n",
    "import pandas as pd\n",
    "import matplotlib.pyplot as plt"
   ]
  },
  {
   "cell_type": "code",
   "execution_count": 4,
   "id": "2ae70856",
   "metadata": {},
   "outputs": [],
   "source": [
    "from sklearn.datasets import load_wine"
   ]
  },
  {
   "cell_type": "code",
   "execution_count": 9,
   "id": "512c0afb",
   "metadata": {},
   "outputs": [],
   "source": [
    "# load dataset\n",
    "df=load_wine()"
   ]
  },
  {
   "cell_type": "code",
   "execution_count": 10,
   "id": "68c8233b",
   "metadata": {},
   "outputs": [
    {
     "data": {
      "text/plain": [
       "array([[1.423e+01, 1.710e+00, 2.430e+00, ..., 1.040e+00, 3.920e+00,\n",
       "        1.065e+03],\n",
       "       [1.320e+01, 1.780e+00, 2.140e+00, ..., 1.050e+00, 3.400e+00,\n",
       "        1.050e+03],\n",
       "       [1.316e+01, 2.360e+00, 2.670e+00, ..., 1.030e+00, 3.170e+00,\n",
       "        1.185e+03],\n",
       "       ...,\n",
       "       [1.327e+01, 4.280e+00, 2.260e+00, ..., 5.900e-01, 1.560e+00,\n",
       "        8.350e+02],\n",
       "       [1.317e+01, 2.590e+00, 2.370e+00, ..., 6.000e-01, 1.620e+00,\n",
       "        8.400e+02],\n",
       "       [1.413e+01, 4.100e+00, 2.740e+00, ..., 6.100e-01, 1.600e+00,\n",
       "        5.600e+02]])"
      ]
     },
     "execution_count": 10,
     "metadata": {},
     "output_type": "execute_result"
    }
   ],
   "source": [
    "df['data']"
   ]
  },
  {
   "cell_type": "code",
   "execution_count": 11,
   "id": "8f825f53",
   "metadata": {},
   "outputs": [
    {
     "data": {
      "text/plain": [
       "array([0, 0, 0, 0, 0, 0, 0, 0, 0, 0, 0, 0, 0, 0, 0, 0, 0, 0, 0, 0, 0, 0,\n",
       "       0, 0, 0, 0, 0, 0, 0, 0, 0, 0, 0, 0, 0, 0, 0, 0, 0, 0, 0, 0, 0, 0,\n",
       "       0, 0, 0, 0, 0, 0, 0, 0, 0, 0, 0, 0, 0, 0, 0, 1, 1, 1, 1, 1, 1, 1,\n",
       "       1, 1, 1, 1, 1, 1, 1, 1, 1, 1, 1, 1, 1, 1, 1, 1, 1, 1, 1, 1, 1, 1,\n",
       "       1, 1, 1, 1, 1, 1, 1, 1, 1, 1, 1, 1, 1, 1, 1, 1, 1, 1, 1, 1, 1, 1,\n",
       "       1, 1, 1, 1, 1, 1, 1, 1, 1, 1, 1, 1, 1, 1, 1, 1, 1, 1, 1, 1, 2, 2,\n",
       "       2, 2, 2, 2, 2, 2, 2, 2, 2, 2, 2, 2, 2, 2, 2, 2, 2, 2, 2, 2, 2, 2,\n",
       "       2, 2, 2, 2, 2, 2, 2, 2, 2, 2, 2, 2, 2, 2, 2, 2, 2, 2, 2, 2, 2, 2,\n",
       "       2, 2])"
      ]
     },
     "execution_count": 11,
     "metadata": {},
     "output_type": "execute_result"
    }
   ],
   "source": [
    "df['target']"
   ]
  },
  {
   "cell_type": "code",
   "execution_count": 12,
   "id": "5dd4b633",
   "metadata": {},
   "outputs": [],
   "source": [
    "# Split the dataset into features and target variables\n",
    "X=df.data\n",
    "y=df.target"
   ]
  },
  {
   "cell_type": "code",
   "execution_count": 17,
   "id": "fad23235",
   "metadata": {},
   "outputs": [],
   "source": [
    "# Preprocess the data by applying scaling to standardize the data\n",
    "from sklearn.preprocessing import StandardScaler\n",
    "\n",
    "scaler = StandardScaler()\n",
    "X_scaled = scaler.fit_transform(X)"
   ]
  },
  {
   "cell_type": "code",
   "execution_count": 18,
   "id": "004fa1ce",
   "metadata": {},
   "outputs": [
    {
     "data": {
      "text/plain": [
       "PCA()"
      ]
     },
     "execution_count": 18,
     "metadata": {},
     "output_type": "execute_result"
    }
   ],
   "source": [
    "# Implement PCA on the preprocessed dataset using the scikit-learn library.\n",
    "from sklearn.decomposition import PCA\n",
    "\n",
    "pca=PCA()\n",
    "pca.fit(X_scaled)"
   ]
  },
  {
   "cell_type": "code",
   "execution_count": 19,
   "id": "cfbdef24",
   "metadata": {},
   "outputs": [
    {
     "data": {
      "image/png": "[encoded data removed]",
      "text/plain": [
       "<Figure size 432x288 with 1 Axes>"
      ]
     },
     "metadata": {
      "needs_background": "light"
     },
     "output_type": "display_data"
    }
   ],
   "source": [
    "# Determine the optimal number of principal components to retain based on the explained variance ratio\n",
    "cumulative_variance_ratio = np.cumsum(pca.explained_variance_ratio_)\n",
    "plt.plot(cumulative_variance_ratio)\n",
    "plt.xlabel('Number of Components')\n",
    "plt.ylabel('Cumulative Explained Variance Ratio')\n",
    "plt.show()"
   ]
  },
  {
   "cell_type": "code",
   "execution_count": 29,
   "id": "c3907ecc",
   "metadata": {},
   "outputs": [
    {
     "name": "stdout",
     "output_type": "stream",
     "text": [
      "Number of components: 10\n"
     ]
    }
   ],
   "source": [
    "n_components=np.where(cumulative_variance_ratio>0.95)[0][0]+1\n",
    "print('Number of components:', n_components)"
   ]
  },
  {
   "cell_type": "code",
   "execution_count": 32,
   "id": "91da9139",
   "metadata": {},
   "outputs": [],
   "source": [
    "pca=PCA(n_components=n_components)\n",
    "X_pca=pca.fit_transform(X_scaled)"
   ]
  },
  {
   "cell_type": "code",
   "execution_count": 33,
   "id": "9f248877",
   "metadata": {},
   "outputs": [
    {
     "data": {
      "text/plain": [
       "array([[ 3.31675081e+00, -1.44346263e+00, -1.65739045e-01, ...,\n",
       "         6.51390947e-02,  6.41442706e-01,  1.02095585e+00],\n",
       "       [ 2.20946492e+00,  3.33392887e-01, -2.02645737e+00, ...,\n",
       "         1.02441595e+00, -3.08846753e-01,  1.59701372e-01],\n",
       "       [ 2.51674015e+00, -1.03115130e+00,  9.82818670e-01, ...,\n",
       "        -3.44216131e-01, -1.17783447e+00,  1.13360857e-01],\n",
       "       ...,\n",
       "       [-2.67783946e+00, -2.76089913e+00, -9.40941877e-01, ...,\n",
       "         4.70238043e-02,  1.22214687e-03, -2.47997312e-01],\n",
       "       [-2.38701709e+00, -2.29734668e+00, -5.50696197e-01, ...,\n",
       "         3.90828774e-01,  5.74476725e-02,  4.91489502e-01],\n",
       "       [-3.20875816e+00, -2.76891957e+00,  1.01391366e+00, ...,\n",
       "        -2.92913734e-01,  7.41660423e-01, -1.17969019e-01]])"
      ]
     },
     "execution_count": 33,
     "metadata": {},
     "output_type": "execute_result"
    }
   ],
   "source": [
    "X_pca"
   ]
  },
  {
   "cell_type": "code",
   "execution_count": 34,
   "id": "50b3c22f",
   "metadata": {},
   "outputs": [
    {
     "data": {
      "text/plain": [
       "array([ 3.31675081,  2.20946492,  2.51674015,  3.75706561,  1.00890849,\n",
       "        3.05025392,  2.44908967,  2.05943687,  2.5108743 ,  2.75362819,\n",
       "        3.47973668,  1.7547529 ,  2.11346234,  3.45815682,  4.31278391,\n",
       "        2.3051882 ,  2.17195527,  1.89897118,  3.54198508,  2.0845222 ,\n",
       "        3.12440254,  1.08657007,  2.53522408,  1.64498834,  1.76157587,\n",
       "        0.9900791 ,  1.77527763,  1.23542396,  2.18840633,  2.25610898,\n",
       "        2.50022003,  2.67741105,  1.62857912,  1.90269086,  1.41038853,\n",
       "        1.90382623,  1.38486223,  1.12220741,  1.5021945 ,  2.52980109,\n",
       "        2.58809543,  0.66848199,  3.07080699,  0.46220914,  2.10135193,\n",
       "        1.13616618,  2.72660096,  2.82133927,  2.00985085,  2.7074913 ,\n",
       "        3.21491747,  2.85895983,  3.50560436,  2.22479138,  2.14698782,\n",
       "        2.46932948,  2.74151791,  2.17374092,  3.13938015, -0.92858197,\n",
       "       -1.54248014, -1.83624976,  0.03060683,  2.05026161, -0.60968083,\n",
       "        0.90022784,  2.24850719,  0.18338403, -0.81280503,  1.9756205 ,\n",
       "       -1.57221622,  1.65768181, -0.72537239,  2.56222717,  1.83256757,\n",
       "       -0.8679929 ,  0.3700144 , -1.45737704,  1.26293085,  0.37615037,\n",
       "        0.7620639 ,  1.03457797, -0.49487676, -2.53897708,  0.83532015,\n",
       "        0.78790461, -0.80683216, -0.55804262, -1.11511104, -0.55572283,\n",
       "       -1.34928528, -1.56448261, -1.93255561,  0.74666594,  0.95745536,\n",
       "        2.54386518, -0.54395259,  1.03104975,  2.25190942,  1.41021602,\n",
       "        0.79771979, -0.54953173, -0.16117374, -0.65979494,  0.39235441,\n",
       "       -1.77249908, -0.36626736, -1.62067257,  0.08253578,  1.57827507,\n",
       "        1.42056925, -0.27870275, -1.30314497, -0.45707187, -0.49418585,\n",
       "        0.48207441, -0.25288888, -0.10722764, -2.4330126 , -0.55108954,\n",
       "        0.73962193,  1.33632173, -1.177087  , -0.46233501,  0.97847408,\n",
       "       -0.09680973,  0.03848715, -1.5971585 , -0.47956492, -1.79283347,\n",
       "       -1.32710166, -2.38450083, -2.9369401 , -2.14681113, -2.36986949,\n",
       "       -3.06384157, -3.91575378, -3.93646339, -3.09427612, -2.37447163,\n",
       "       -2.77881295, -2.28656128, -2.98563349, -2.3751947 , -2.20986553,\n",
       "       -2.625621  , -4.28063878, -3.58264137, -2.80706372, -2.89965933,\n",
       "       -2.32073698, -2.54983095, -1.81254128, -2.76014464, -2.7371505 ,\n",
       "       -3.60486887, -2.889826  , -3.39215608, -1.0481819 , -1.60991228,\n",
       "       -3.14313097, -2.2401569 , -2.84767378, -2.59749706, -2.94929937,\n",
       "       -3.53003227, -2.40611054, -2.92908473, -2.18141278, -2.38092779,\n",
       "       -3.21161722, -3.67791872, -2.4655558 , -3.37052415, -2.60195585,\n",
       "       -2.67783946, -2.38701709, -3.20875816])"
      ]
     },
     "execution_count": 34,
     "metadata": {},
     "output_type": "execute_result"
    }
   ],
   "source": [
    "X_pca[:, 0]"
   ]
  },
  {
   "cell_type": "code",
   "execution_count": 35,
   "id": "7924fd02",
   "metadata": {},
   "outputs": [
    {
     "data": {
      "text/plain": [
       "array([-1.44346263,  0.33339289, -1.0311513 , -2.75637191, -0.86983082,\n",
       "       -2.12240111, -1.17485013, -1.60896307, -0.91807096, -0.78943767,\n",
       "       -1.30233324, -0.61197723, -0.67570634, -1.13062988, -2.09597558,\n",
       "       -1.66255173, -2.32730534, -1.63136888, -2.51834367, -1.06113799,\n",
       "       -0.78689711, -0.24174355,  0.09184062,  0.51627893,  0.31714893,\n",
       "       -0.94066734, -0.68617513,  0.08980704, -0.68956962, -0.19146194,\n",
       "       -1.24083383, -1.47187365, -0.05270445, -1.63306043, -0.69793432,\n",
       "       -0.17671095, -0.65863985, -0.11410976,  0.76943201, -1.80300198,\n",
       "       -0.7796163 , -0.16996094, -1.15591896, -0.33074213,  0.07100892,\n",
       "       -1.77710739, -1.19133469, -0.6462586 , -1.24702946, -1.75196741,\n",
       "       -0.16699199, -0.7452788 , -1.61273386, -1.875168  , -1.01675154,\n",
       "       -1.32900831, -1.43654878, -1.21219984, -1.73157912,  3.07348616,\n",
       "        1.38144351,  0.82998412,  1.26278614,  1.9250326 ,  1.90805881,\n",
       "        0.76391147,  1.88459248,  2.42714611,  0.22051399,  1.40328323,\n",
       "        0.88498314,  0.9567122 ,  1.0636454 , -0.26019855,  1.2878782 ,\n",
       "        2.44410119,  2.15390698,  1.38335177,  0.77084953,  1.0270434 ,\n",
       "        3.37505381,  1.45070974,  2.38124353,  0.08744336,  1.47367055,\n",
       "        2.02662652,  2.23383039,  2.37298543,  1.80224719,  2.65754004,\n",
       "        2.11800147,  1.85221452,  1.55949546,  2.31293171,  2.22352843,\n",
       "       -0.16927402,  0.36892655,  2.56556935,  1.43274138,  2.16619177,\n",
       "        2.3769488 ,  2.29312864,  1.16448332,  2.67996119,  2.09873171,\n",
       "        1.71728847,  2.1693533 ,  1.35558339,  2.30623459,  1.46203429,\n",
       "        1.41820664,  1.93056809,  0.76317231,  2.26941561,  1.93904505,\n",
       "        3.87178385,  2.82149237,  1.92892204,  1.25714104,  2.22216155,\n",
       "        1.40895667, -0.25333693,  0.66396684,  0.61828818,  1.4455705 ,\n",
       "        2.10999799,  1.26676211,  1.20814357,  1.93884066,  1.1502881 ,\n",
       "       -0.17038923, -0.37458261, -0.26386183, -0.36825495,  0.45963481,\n",
       "       -0.35341284, -0.15458252, -0.65968723, -0.34884276, -0.29198035,\n",
       "       -0.28680487, -0.37250784, -0.48921791, -0.48233372, -1.1600525 ,\n",
       "       -0.56316076, -0.64967096, -1.27270275, -1.57053379, -2.04105701,\n",
       "       -2.35636608, -2.04528309, -1.52764595, -2.13893235, -0.40988627,\n",
       "       -1.80238422, -1.92521861, -1.31187639, -3.51508969, -2.40663816,\n",
       "       -0.73816104, -1.17546529, -0.55604397, -0.69796554, -1.55530896,\n",
       "       -0.8825268 , -2.59235618, -1.27444695, -2.07753731, -2.58866743,\n",
       "        0.2512491 , -0.84774784, -2.1937983 , -2.21628914, -1.75722935,\n",
       "       -2.76089913, -2.29734668, -2.76891957])"
      ]
     },
     "execution_count": 35,
     "metadata": {},
     "output_type": "execute_result"
    }
   ],
   "source": [
    "X_pca[:, 1]"
   ]
  },
  {
   "cell_type": "code",
   "execution_count": 38,
   "id": "5907a616",
   "metadata": {},
   "outputs": [
    {
     "data": {
      "image/png": "[encoded data removed]",
      "text/plain": [
       "<Figure size 432x288 with 1 Axes>"
      ]
     },
     "metadata": {
      "needs_background": "light"
     },
     "output_type": "display_data"
    }
   ],
   "source": [
    "# Visualize the results of PCA using a scatter plot\n",
    "plt.scatter(X_pca[:, 0], X_pca[:, 1], c=y, cmap='viridis')\n",
    "plt.xlabel('First Principal Component')\n",
    "plt.ylabel('Second Principal Component')\n",
    "plt.show()"
   ]
  },
  {
   "cell_type": "code",
   "execution_count": 40,
   "id": "3321d303",
   "metadata": {},
   "outputs": [],
   "source": [
    "from sklearn.cluster import KMeans\n",
    "\n",
    "# Perform clustering on the PCA-transformed data using the K-Means clustering algorithm\n",
    "kmeans = KMeans(n_clusters=len(np.unique(y)))\n",
    "y_pred = kmeans.fit_predict(X_pca)"
   ]
  },
  {
   "cell_type": "code",
   "execution_count": 43,
   "id": "5738c49c",
   "metadata": {},
   "outputs": [
    {
     "name": "stdout",
     "output_type": "stream",
     "text": [
      "Silhouette Score: 0.298674829436929\n",
      "Calinski-Harabasz Index: 76.17957977418841\n"
     ]
    }
   ],
   "source": [
    "# Evaluate the performance of the clustering algorithm using performance metrics\n",
    "from sklearn.metrics import silhouette_score, calinski_harabasz_score\n",
    "\n",
    "silhouette = silhouette_score(X_pca, y_pred)\n",
    "calinski_harabasz = calinski_harabasz_score(X_pca, y_pred)\n",
    "\n",
    "print('Silhouette Score:', silhouette)\n",
    "print('Calinski-Harabasz Index:', calinski_harabasz)"
   ]
  },
  {
   "cell_type": "markdown",
   "id": "d40b1bdd",
   "metadata": {},
   "source": [
    "# Report\n",
    "### Introduction\n",
    "The wine dataset contains the results of a chemical analysis of wines grown in a specific area of Italy. The dataset contains 13 features and 3 classes, where each class represents a different cultivar of wine. In this analysis, we will use PCA to reduce the dimensionality of the data and then use K-Means clustering to cluster the data.\n",
    "\n",
    "### PCA\n",
    "PCA is a dimensionality reduction technique that is used to reduce the dimensionality of high-dimensional data while preserving as much of the variation in the data as possible. In this analysis, we applied PCA to the wine dataset after standardizing the data. The optimal number of principal components was determined based on the cumulative explained variance ratio. The results showed that we could retain over 95% of the variance in the data by using only the first two principal components. The scatter plot of the PCA-transformed data showed that the first two principal components were able to separate the three classes of wines reasonably well.\n",
    "\n",
    "### Clustering\n",
    "After performing PCA, we applied K-Means clustering to the PCA-transformed data. The number of clusters was set to the number of unique classes in the original data (i.e., 3). We evaluated the performance of the clustering algorithm using two performance metrics: silhouette score and Calinski-Harabasz index. The silhouette score measures the similarity of each data point to its assigned cluster compared to other clusters, while the Calinski-Harabasz index measures the ratio of the between-cluster dispersion to the within-cluster dispersion. The results showed that the K-Means clustering algorithm achieved a silhouette score of 0.298 and a Calinski-Harabasz index of 76.17, indicating that the clusters were relatively well-separated.\n",
    "\n",
    "### Conclusion\n",
    "In conclusion, PCA was able to reduce the dimensionality of the wine dataset while preserving over 95% of the variance in the data. The scatter plot of the PCA-transformed data showed that the first two principal components were able to separate the three classes of wines reasonably well. The K-Means clustering algorithm was able to cluster the PCA-transformed data into three relatively well-separated clusters.\n",
    "\n"
   ]
  },
  {
   "cell_type": "code",
   "execution_count": null,
   "id": "be7127c4",
   "metadata": {},
   "outputs": [],
   "source": []
  }
 ],
 "metadata": {
  "kernelspec": {
   "display_name": "Python 3 (ipykernel)",
   "language": "python",
   "name": "python3"
  },
  "language_info": {
   "codemirror_mode": {
    "name": "ipython",
    "version": 3
   },
   "file_extension": ".py",
   "mimetype": "text/x-python",
   "name": "python",
   "nbconvert_exporter": "python",
   "pygments_lexer": "ipython3",
   "version": "3.9.7"
  }
 },
 "nbformat": 4,
 "nbformat_minor": 5
}
